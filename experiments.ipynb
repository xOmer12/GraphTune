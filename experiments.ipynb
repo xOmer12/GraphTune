{
 "cells": [
  {
   "cell_type": "code",
   "execution_count": 1,
   "metadata": {},
   "outputs": [
    {
     "name": "stderr",
     "output_type": "stream",
     "text": [
      "/lv_local/home/omer.y/.local/lib/python3.9/site-packages/tqdm/auto.py:21: TqdmWarning: IProgress not found. Please update jupyter and ipywidgets. See https://ipywidgets.readthedocs.io/en/stable/user_install.html\n",
      "  from .autonotebook import tqdm as notebook_tqdm\n"
     ]
    }
   ],
   "source": [
    "from pft_encoder import read_data, PreFTDataset, Encoder, evaluate_space, pre_fine_tune, inference\n",
    "from edge_sampling import SBMGraph, AdaptiveBMGraph\n",
    "from torch.utils.data import DataLoader\n",
    "import torch\n",
    "import torch.nn as nn\n",
    "import torch.optim as optim\n",
    "import numpy as np\n",
    "from torch_geometric.nn import SAGEConv, GCNConv, GATConv, TransformerConv\n",
    "from sklearn.metrics import accuracy_score, f1_score"
   ]
  },
  {
   "cell_type": "code",
   "execution_count": 2,
   "metadata": {},
   "outputs": [],
   "source": [
    "noisy_config = {\n",
    "\"name\": \"Structured/Amazon-GoogleBert\",\n",
    "\"task_type\": \"classification\",\n",
    "\"vocab\": [\"0\", \"1\"],\n",
    "\"trainset\": \"Noisy/er_magellan/Structured/Amazon-Google/Amazon-GoogleBert/train.txt\",\n",
    "\"validset\": \"data/er_magellan/Structured/Amazon-Google/valid.txt\",\n",
    "\"testset\": \"data/er_magellan/Structured/Amazon-Google/test.txt\"\n",
    "}\n",
    "real_config =  {\n",
    "  \"name\": \"Structured/Amazon-Google\",\n",
    "  \"task_type\": \"classification\",\n",
    "  \"vocab\": [\"0\", \"1\"],\n",
    "  \"trainset\": \"data/er_magellan/Structured/Amazon-Google/train.txt\",\n",
    "  \"validset\": \"data/er_magellan/Structured/Amazon-Google/valid.txt\",\n",
    "  \"testset\": \"data/er_magellan/Structured/Amazon-Google/test.txt\"\n",
    "  }"
   ]
  },
  {
   "cell_type": "code",
   "execution_count": 3,
   "metadata": {},
   "outputs": [],
   "source": [
    "path = 'Noisy/er_magellan/Structured/Amazon-Google/Amazon-GoogleBert/train.txt'\n",
    "# path = 'data/er_magellan/Structured/Amazon-Google/train.txt'\n",
    "device = torch.device('cuda' if torch.cuda.is_available() else 'cpu')\n",
    "left_samples, right_samples, labels = read_data(path)"
   ]
  },
  {
   "cell_type": "code",
   "execution_count": null,
   "metadata": {},
   "outputs": [],
   "source": [
    "pft_dataset = PreFTDataset(path, max_len=128)\n",
    "pft_dataloader = DataLoader(pft_dataset, batch_size=32, shuffle=True)\n",
    "inference_dataloader = DataLoader(pft_dataset, batch_size=32, shuffle=False)\n",
    "model = Encoder(device=device)\n",
    "criterion = nn.CrossEntropyLoss()\n",
    "optimizer = optim.Adam(model.parameters(), lr=1e-5)\n",
    "model.to(device)"
   ]
  },
  {
   "cell_type": "code",
   "execution_count": 5,
   "metadata": {},
   "outputs": [
    {
     "name": "stderr",
     "output_type": "stream",
     "text": [
      "100%|██████████| 215/215 [00:21<00:00, 10.03it/s]"
     ]
    },
    {
     "name": "stdout",
     "output_type": "stream",
     "text": [
      "Epoch [1/1], Loss: 0.203425990460917\n"
     ]
    },
    {
     "name": "stderr",
     "output_type": "stream",
     "text": [
      "\n"
     ]
    }
   ],
   "source": [
    "pre_fine_tune(model, pft_dataloader, optimizer, criterion, device, epochs=1)\n"
   ]
  },
  {
   "cell_type": "code",
   "execution_count": 6,
   "metadata": {},
   "outputs": [
    {
     "name": "stderr",
     "output_type": "stream",
     "text": [
      "100%|██████████| 215/215 [00:06<00:00, 31.42it/s]\n"
     ]
    }
   ],
   "source": [
    "positive, negative, pos_centroid, neg_centroid, gap = evaluate_space(model, pft_dataloader, device)"
   ]
  },
  {
   "cell_type": "code",
   "execution_count": 7,
   "metadata": {},
   "outputs": [
    {
     "data": {
      "text/plain": [
       "array(12.397679, dtype=float32)"
      ]
     },
     "execution_count": 7,
     "metadata": {},
     "output_type": "execute_result"
    }
   ],
   "source": [
    "gap.cpu().detach().numpy()"
   ]
  },
  {
   "cell_type": "code",
   "execution_count": 8,
   "metadata": {},
   "outputs": [],
   "source": [
    "X = inference(model, pft_dataloader)"
   ]
  },
  {
   "cell_type": "code",
   "execution_count": null,
   "metadata": {},
   "outputs": [],
   "source": [
    "class GNN(nn.Module):\n",
    "    def __init__(self, in_channels, out_channels, num_layers):\n",
    "        super(GNN, self).__init__()\n",
    "        self.convs = nn.ModuleList()\n",
    "        self.convs.append(GATConv(in_channels, out_channels))\n",
    "        for i in range(num_layers - 1):\n",
    "            self.convs.append(GATConv(out_channels, out_channels))\n",
    "    \n",
    "    def forward(self, x, edge_index):\n",
    "        for conv in self.convs:\n",
    "            x = conv(x, edge_index)\n",
    "        return x"
   ]
  },
  {
   "cell_type": "code",
   "execution_count": null,
   "metadata": {},
   "outputs": [],
   "source": [
    "sbm = AdaptiveBMGraph(p=0.005, q=0.0005, \n",
    "config_true=real_config, config_noisy=noisy_config, c0=50, c1=50,beta=25)\n",
    "sbm.calc_community_probs()\n",
    "print('Community probabilities:')\n",
    "print(sbm.probs)\n",
    "print('Generating graph...')\n",
    "data_object = sbm.generate_graph()\n",
    "print('Analyzing graph...')\n",
    "sbm.analyze_graph()\n",
    "edge_index = data_object.edge_index.to(device)\n",
    "train_mask = data_object.train_mask.to(device)\n",
    "val_mask = data_object.val_mask.to(device)\n",
    "test_mask = data_object.test_mask.to(device)\n",
    "y = data_object.y.to(device)\n",
    "labels_clean = data_object.labels_clean.to(device)\n"
   ]
  },
  {
   "cell_type": "code",
   "execution_count": null,
   "metadata": {},
   "outputs": [],
   "source": [
    "graph_net = GNN(768, 768, 2).to(device)\n",
    "optimizer = optim.Adam(graph_net.parameters(), lr=1e-5)\n",
    "criterion = nn.CrossEntropyLoss()\n",
    "for epoch in range(1, 6):\n",
    "    graph_net.train()\n",
    "    optimizer.zero_grad()\n",
    "    out = graph_net(X, edge_index)\n",
    "    loss = criterion(out[train_mask], y[train_mask])\n",
    "    loss.backward()\n",
    "    optimizer.step()\n",
    "    print(f'Epoch {epoch}, Loss: {loss.item()}')\n"
   ]
  }
 ],
 "metadata": {
  "kernelspec": {
   "display_name": "pyg_env",
   "language": "python",
   "name": "python3"
  },
  "language_info": {
   "codemirror_mode": {
    "name": "ipython",
    "version": 3
   },
   "file_extension": ".py",
   "mimetype": "text/x-python",
   "name": "python",
   "nbconvert_exporter": "python",
   "pygments_lexer": "ipython3",
   "version": "3.9.21"
  }
 },
 "nbformat": 4,
 "nbformat_minor": 2
}
